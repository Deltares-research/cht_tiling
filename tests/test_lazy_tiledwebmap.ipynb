{
 "cells": [
  {
   "cell_type": "code",
   "execution_count": 1,
   "id": "16d475a8",
   "metadata": {},
   "outputs": [],
   "source": [
    "import os\n",
    "from cht_tiling.tiled_web_map import *"
   ]
  },
  {
   "cell_type": "code",
   "execution_count": 2,
   "id": "3e6a5612",
   "metadata": {},
   "outputs": [],
   "source": [
    "path = r\"c:\\delftdashboard\\data\\bathymetry\\gebco_2024\"\n",
    "name = \"gebco_2024\"\n",
    "\n",
    "# Initialize TiledWebMap instance\n",
    "ds = TiledWebMap(path, name)"
   ]
  },
  {
   "cell_type": "code",
   "execution_count": 4,
   "id": "c4460b39",
   "metadata": {},
   "outputs": [],
   "source": [
    "ds.make_availability_file()"
   ]
  },
  {
   "cell_type": "code",
   "execution_count": 3,
   "id": "c3eb72a7",
   "metadata": {},
   "outputs": [],
   "source": [
    "from cht_tiling.utils import lat_lon_to_webmercator\n",
    "\n",
    "# bbox of dcsm model, xmin, ymin, xmax, ymax\n",
    "bbox = [-15, 43, 13, 64]\n",
    "\n",
    "# get a bounding box in web mercator\n",
    "xymin = lat_lon_to_webmercator(bbox[1], bbox[0])\n",
    "xymax = lat_lon_to_webmercator(bbox[3], bbox[2])\n",
    "\n",
    "x_range = (xymin[0], xymax[0])\n",
    "y_range = (xymin[1], xymax[1])\n"
   ]
  },
  {
   "cell_type": "code",
   "execution_count": null,
   "id": "de6b20ef",
   "metadata": {},
   "outputs": [],
   "source": [
    "# Traditional way to get data, returns numpy arrays\n",
    "x,y,z = ds.get_data(xl=x_range, yl=y_range, max_pixel_size=1e3)"
   ]
  },
  {
   "cell_type": "code",
   "execution_count": null,
   "id": "2554562c",
   "metadata": {},
   "outputs": [],
   "source": [
    "# New lazy way to get data, returns xarray DataArray with dask backend\n",
    "elevation = ds.get_data_lazy(xl=x_range, yl=y_range, max_pixel_size=1e3)"
   ]
  },
  {
   "cell_type": "code",
   "execution_count": null,
   "id": "8efb3759",
   "metadata": {},
   "outputs": [],
   "source": [
    "# now create an xarray data-arrat from the x,y coordinates with z as the values\n",
    "import xarray as xr\n",
    "import matplotlib.pyplot as plt\n",
    "from matplotlib import colors\n",
    "\n",
    "vmin = -50\n",
    "vmax = 300\n",
    "c_dem = plt.cm.terrain(np.linspace(0.25, 1, vmax))\n",
    "if vmin < 0:\n",
    "    c_bat = plt.cm.terrain(np.linspace(0, 0.17, max(1, abs(vmin))))\n",
    "    c_dem = np.vstack((c_bat, c_dem))\n",
    "cmap = colors.LinearSegmentedColormap.from_list(\"dem\", c_dem)\n",
    "\n",
    "fig,ax = plt.subplots(figsize=(10,10))\n",
    "elevation.plot(ax=ax, cmap=cmap, vmin=vmin, vmax=vmax)\n"
   ]
  },
  {
   "cell_type": "code",
   "execution_count": null,
   "id": "e6f18640",
   "metadata": {},
   "outputs": [],
   "source": [
    "# plot x,y,z data\n",
    "xz, yz = np.meshgrid(x, y)\n",
    "\n",
    "plt.figure(figsize=(10,10))\n",
    "plt.pcolormesh(xz, yz, z, cmap=cmap, vmin=vmin, vmax=vmax)\n",
    "plt.colorbar(label=\"Elevation (m)\")\n",
    "plt.xlabel(\"X (m)\")\n",
    "plt.ylabel(\"Y (m)\")\n",
    "plt.title(\"Elevation from GEBCO 2024\")"
   ]
  }
 ],
 "metadata": {
  "kernelspec": {
   "display_name": "ddb_dev",
   "language": "python",
   "name": "python3"
  },
  "language_info": {
   "codemirror_mode": {
    "name": "ipython",
    "version": 3
   },
   "file_extension": ".py",
   "mimetype": "text/x-python",
   "name": "python",
   "nbconvert_exporter": "python",
   "pygments_lexer": "ipython3",
   "version": "3.12.11"
  }
 },
 "nbformat": 4,
 "nbformat_minor": 5
}
